{
 "cells": [
  {
   "cell_type": "code",
   "execution_count": 23,
   "metadata": {},
   "outputs": [],
   "source": [
    "# Import the random module.\n",
    "import random\n",
    "# Import the NumPy module.\n",
    "import numpy as np\n",
    "# Import timeit module\n",
    "import timeit\n"
   ]
  },
  {
   "cell_type": "code",
   "execution_count": 6,
   "metadata": {},
   "outputs": [
    {
     "data": {
      "text/plain": [
       "72"
      ]
     },
     "execution_count": 6,
     "metadata": {},
     "output_type": "execute_result"
    }
   ],
   "source": [
    "random.randint(-90,90)"
   ]
  },
  {
   "cell_type": "code",
   "execution_count": 7,
   "metadata": {},
   "outputs": [
    {
     "data": {
      "text/plain": [
       "0.6626375206711865"
      ]
     },
     "execution_count": 7,
     "metadata": {},
     "output_type": "execute_result"
    }
   ],
   "source": [
    "random.random()"
   ]
  },
  {
   "cell_type": "code",
   "execution_count": 12,
   "metadata": {},
   "outputs": [
    {
     "data": {
      "text/plain": [
       "[51.62449893299589,\n",
       " 31.302298650448297,\n",
       " -36.92115065606865,\n",
       " 65.53289849648905,\n",
       " -16.39754161296284,\n",
       " 0.6587407138895907,\n",
       " 49.26900363357013,\n",
       " -42.83962021308179,\n",
       " -35.09148379274238,\n",
       " 81.778961750171]"
      ]
     },
     "execution_count": 12,
     "metadata": {},
     "output_type": "execute_result"
    }
   ],
   "source": [
    "# Latitude: Generate 10 random numbers between -90 and 89 with random decimal numbers\n",
    "x =1\n",
    "latitudes=[]\n",
    "while x <11:\n",
    "    random_lat = random.randint(-90,89) + random.random()\n",
    "    latitudes.append(random_lat)\n",
    "    x += 1\n",
    "latitudes"
   ]
  },
  {
   "cell_type": "code",
   "execution_count": 14,
   "metadata": {},
   "outputs": [
    {
     "data": {
      "text/plain": [
       "37"
      ]
     },
     "execution_count": 14,
     "metadata": {},
     "output_type": "execute_result"
    }
   ],
   "source": [
    "random.randrange(-90,90, step=1)"
   ]
  },
  {
   "cell_type": "code",
   "execution_count": 19,
   "metadata": {},
   "outputs": [
    {
     "data": {
      "text/plain": [
       "54"
      ]
     },
     "execution_count": 19,
     "metadata": {},
     "output_type": "execute_result"
    }
   ],
   "source": [
    "random.randrange(-90,90,step=3)"
   ]
  },
  {
   "cell_type": "code",
   "execution_count": 21,
   "metadata": {},
   "outputs": [
    {
     "data": {
      "text/plain": [
       "-38.4935162073052"
      ]
     },
     "execution_count": 21,
     "metadata": {},
     "output_type": "execute_result"
    }
   ],
   "source": [
    "np.random.uniform(-90.000, 90.000)"
   ]
  },
  {
   "cell_type": "code",
   "execution_count": 22,
   "metadata": {},
   "outputs": [
    {
     "data": {
      "text/plain": [
       "array([-64.99628843,   0.14109912, -76.25052048, -64.14999391,\n",
       "       -43.59687932, -26.56612823,  50.16939553,  67.1985927 ,\n",
       "        89.98315616, -25.58714036,  16.59124322, -63.71014077,\n",
       "        78.50333554,  30.04432915, -10.70792548,  69.8367107 ,\n",
       "       -37.89912554,  64.6734018 ,  19.83452032, -22.86472401,\n",
       "        55.25892899,   2.47088158,  81.71164553, -79.49598717,\n",
       "        77.46273193, -45.31421182,  43.70158832,  35.96617234,\n",
       "        14.36572315, -37.76793376,  -6.95599259,  39.29849251,\n",
       "       -55.44412754,   4.04472082, -19.36384438, -41.42555864,\n",
       "        22.24377313,  19.39914805, -22.5657418 ,  87.7093325 ,\n",
       "       -50.21494189, -42.59210855,  51.59422598, -39.39418722,\n",
       "         7.3126086 ,  54.51726162,  -6.82223684, -11.52227641,\n",
       "        75.65229947,  87.99991342])"
      ]
     },
     "execution_count": 22,
     "metadata": {},
     "output_type": "execute_result"
    }
   ],
   "source": [
    "np.random.uniform(-90.000, 90.000, size=50)"
   ]
  },
  {
   "cell_type": "code",
   "execution_count": 24,
   "metadata": {},
   "outputs": [
    {
     "name": "stdout",
     "output_type": "stream",
     "text": [
      "29.3 µs ± 8.57 µs per loop (mean ± std. dev. of 7 runs, 10000 loops each)\n"
     ]
    }
   ],
   "source": [
    "%timeit np.random.uniform(-90.000, 90.000, size=1500)"
   ]
  },
  {
   "cell_type": "code",
   "execution_count": 25,
   "metadata": {},
   "outputs": [
    {
     "name": "stdout",
     "output_type": "stream",
     "text": [
      "4.32 ms ± 937 µs per loop (mean ± std. dev. of 7 runs, 100 loops each)\n"
     ]
    }
   ],
   "source": [
    "# define function to generate random latitudes\n",
    "\n",
    "def latitudes(size):\n",
    "    latitudes =[]\n",
    "    x=0\n",
    "    while x< (size):\n",
    "        random_lat = random.randint(-90,90) + random.random()\n",
    "        latitudes.append(random_lat)\n",
    "        x +=1\n",
    "    return latitudes\n",
    "# Call the function with 1500\n",
    "%timeit latitudes(1500)"
   ]
  },
  {
   "cell_type": "code",
   "execution_count": 29,
   "metadata": {},
   "outputs": [
    {
     "name": "stdout",
     "output_type": "stream",
     "text": [
      "3.72 ms ± 777 µs per loop (mean ± std. dev. of 7 runs, 100 loops each)\n"
     ]
    }
   ],
   "source": [
    "# define function to generate random latitudes\n",
    "\n",
    "def latitudes2(size):\n",
    "    latitudes2 =[]\n",
    "    \n",
    "    for x in range(0,size):\n",
    "        random_lat = random.randint(-90,90) + random.random()\n",
    "        latitudes2.append(random_lat)\n",
    "     \n",
    "    return latitudes2\n",
    "# Call the function with 1500\n",
    "%timeit latitudes2(1500)"
   ]
  },
  {
   "cell_type": "code",
   "execution_count": null,
   "metadata": {},
   "outputs": [],
   "source": []
  }
 ],
 "metadata": {
  "kernelspec": {
   "display_name": "PythonData",
   "language": "python",
   "name": "pythondata"
  },
  "language_info": {
   "codemirror_mode": {
    "name": "ipython",
    "version": 3
   },
   "file_extension": ".py",
   "mimetype": "text/x-python",
   "name": "python",
   "nbconvert_exporter": "python",
   "pygments_lexer": "ipython3",
   "version": "3.7.6"
  }
 },
 "nbformat": 4,
 "nbformat_minor": 4
}
